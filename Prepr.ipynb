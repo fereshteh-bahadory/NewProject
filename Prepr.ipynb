{
  "nbformat": 4,
  "nbformat_minor": 0,
  "metadata": {
    "colab": {
      "provenance": [],
      "collapsed_sections": [],
      "authorship_tag": "ABX9TyPUKA7ErgHnsnjEMEZwLIuS",
      "include_colab_link": true
    },
    "kernelspec": {
      "name": "python3",
      "display_name": "Python 3"
    },
    "language_info": {
      "name": "python"
    }
  },
  "cells": [
    {
      "cell_type": "markdown",
      "metadata": {
        "id": "view-in-github",
        "colab_type": "text"
      },
      "source": [
        "<a href=\"https://colab.research.google.com/github/fereshteh-bahadory/NewProject/blob/main/Prepr.ipynb\" target=\"_parent\"><img src=\"https://colab.research.google.com/assets/colab-badge.svg\" alt=\"Open In Colab\"/></a>"
      ]
    },
    {
      "cell_type": "code",
      "source": [
        "!pip install patchify"
      ],
      "metadata": {
        "id": "mfj12CsxfYSf"
      },
      "execution_count": null,
      "outputs": []
    },
    {
      "cell_type": "code",
      "source": [
        "import os\n",
        "import cv2\n",
        "import numpy as np\n",
        "from matplotlib import pyplot as plt\n",
        "from PIL import Image\n",
        "from tensorflow.keras.metrics import MeanIoU\n",
        "from patchify import patchify"
      ],
      "metadata": {
        "id": "Rxby2KPb8ZhP"
      },
      "execution_count": 51,
      "outputs": []
    },
    {
      "cell_type": "code",
      "source": [
        "from sklearn.preprocessing import MinMaxScaler, StandardScaler\n",
        "mscaler = MinMaxScaler()\n",
        "sscaler = StandardScaler()"
      ],
      "metadata": {
        "id": "fuwBEfpWV8Bv"
      },
      "execution_count": 52,
      "outputs": []
    },
    {
      "cell_type": "code",
      "source": [
        "from keras.preprocessing.image import ImageDataGenerator"
      ],
      "metadata": {
        "id": "wvY9X5zdDFxd"
      },
      "execution_count": 54,
      "outputs": []
    },
    {
      "cell_type": "code",
      "source": [
        "import pathlib\n",
        "directory = pathlib.Path('/content/sample_data')\n",
        "image_dataset=[]\n",
        "for path, subdirs, files in os.walk(directory):\n",
        "  dirname = path.split(os.path.sep)[-1]\n",
        "  if dirname == 'train_images':\n",
        "    train_images = os.listdir(path)\n",
        "    for i, image_name in enumerate(train_images):\n",
        "      if image_name.endswith(\".png\"):\n",
        "        #print(image_name)\n",
        "        image = cv2.imread(path+\"/\"+image_name,1)\n",
        "        image = Image.fromarray(image)\n",
        "        image=np.array(image)"
      ],
      "metadata": {
        "id": "HiIc1bQfW0gD"
      },
      "execution_count": 55,
      "outputs": []
    },
    {
      "cell_type": "code",
      "source": [
        "patch_im = patchify(image,(256,256,3),step=256)"
      ],
      "metadata": {
        "id": "a4urm_qw3n94"
      },
      "execution_count": 58,
      "outputs": []
    },
    {
      "cell_type": "code",
      "source": [
        "for i in range(patch_im.shape[0]):\n",
        "  for j in range(patch_im.shape[1]):\n",
        "    s_image=patch_im[i,j,:,:]\n",
        "    s_image=mscaler.fit_transform(s_image.reshape(-1,s_image.shape[-1])).reshape(s_image.shape)\n",
        "    s_image=s_image[0]\n",
        "    image_dataset.append(s_image)"
      ],
      "metadata": {
        "id": "DJ0oY9s3yyBH"
      },
      "execution_count": 59,
      "outputs": []
    },
    {
      "cell_type": "markdown",
      "source": [
        "## Mask"
      ],
      "metadata": {
        "id": "E8mW_RddDAGG"
      }
    },
    {
      "cell_type": "code",
      "source": [
        "mask_dataset=[]\n",
        "for path, subdirs, files in os.walk(directory):\n",
        "  dirname = path.split(os.path.sep)[-1]\n",
        "  if dirname == 'train_masks':\n",
        "    train_masks = os.listdir(path)\n",
        "    for i, image_name in enumerate(train_masks):\n",
        "      #print(image_name)\n",
        "      if image_name.endswith(\".png\"):\n",
        "        mask = cv2.imread(path+\"/\"+image_name,0)\n",
        "        mask = cv2.cvtColor(mask,cv2.COLOR_BGR2RGB)\n",
        "        mask = Image.fromarray(image)\n",
        "        mask=np.array(image)"
      ],
      "metadata": {
        "id": "9FFkl0tL9-Nr"
      },
      "execution_count": 49,
      "outputs": []
    },
    {
      "cell_type": "code",
      "source": [
        "patch_mask = patchify(mask,(256,256,3),step=256)\n",
        "for i in range(patch_mask.shape[0]):\n",
        "  for j in range(patch_mask.shape[1]):\n",
        "    s_mask=patch_mask[i,j,:,:]\n",
        "#    s_mask=mscaler.fit_transform(s_mask.reshape(-1,s_mask.shape[-1])).reshape(s_mask.shape)\n",
        "    s_mask=s_mask[0]\n",
        "    mask_dataset.append(s_mask)"
      ],
      "metadata": {
        "id": "pVsCEWAoCdc0"
      },
      "execution_count": 60,
      "outputs": []
    },
    {
      "cell_type": "code",
      "source": [
        "image_dataset=np.array(image_dataset)\n",
        "mask_dataset=np.array(mask_dataset)"
      ],
      "metadata": {
        "id": "Yds0xuhVDlLa"
      },
      "execution_count": 61,
      "outputs": []
    }
  ]
}